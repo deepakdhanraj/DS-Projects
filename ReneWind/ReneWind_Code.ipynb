{
  "nbformat": 4,
  "nbformat_minor": 0,
  "metadata": {
    "colab": {
      "name": "MT_Project_LearnerNotebook_LowCode_MT_002.ipynb",
      "provenance": [],
      "collapsed_sections": [
        "v_-uuGqH-qTt",
        "xxhpZv9y-qTw",
        "KQi5ygTC-qT1",
        "961px703qhLV",
        "5TcqcxbK-qT3",
        "xNr4bWoM-qT5",
        "Ch_TjRfF-qT5",
        "nUCorhch-qT4",
        "DhPuzWO7hmV8",
        "Lv7Bs8aUbp07",
        "sfvnghrACelD",
        "Bp8vC9MZbp09",
        "0J99-7Kubp09",
        "8Je_G2zN3VCF",
        "C91_6Swtbp1A",
        "fYLfDmHvbp1B",
        "2FtmPS7Ubp1D",
        "Dqj6dc38bp1E",
        "XoLT8ewJ5V2d",
        "D9JNnpxa4jau",
        "gohwGn0tbp1L",
        "gxFmwam_bp1M"
      ]
    },
    "kernelspec": {
      "display_name": "Python 3",
      "language": "python",
      "name": "python3"
    },
    "language_info": {
      "codemirror_mode": {
        "name": "ipython",
        "version": 3
      },
      "file_extension": ".py",
      "mimetype": "text/x-python",
      "name": "python",
      "nbconvert_exporter": "python",
      "pygments_lexer": "ipython3",
      "version": "3.8.8"
    }
  },
  "cells": [
    {
      "cell_type": "markdown",
      "source": [
        "## Problem Statement"
      ],
      "metadata": {
        "id": "9EaJ8AGwpM-2"
      }
    },
    {
      "cell_type": "markdown",
      "metadata": {
        "id": "x3-QehJxbp0t"
      },
      "source": [
        "### Business Context\n",
        "\n",
        "Renewable energy sources play an increasingly important role in the global energy mix, as the effort to reduce the environmental impact of energy production increases.\n",
        "\n",
        "Out of all the renewable energy alternatives, wind energy is one of the most developed technologies worldwide. The U.S Department of Energy has put together a guide to achieving operational efficiency using predictive maintenance practices.\n",
        "\n",
        "Predictive maintenance uses sensor information and analysis methods to measure and predict degradation and future component capability. The idea behind predictive maintenance is that failure patterns are predictable and if component failure can be predicted accurately and the component is replaced before it fails, the costs of operation and maintenance will be much lower.\n",
        "\n",
        "The sensors fitted across different machines involved in the process of energy generation collect data related to various environmental factors (temperature, humidity, wind speed, etc.) and additional features related to various parts of the wind turbine (gearbox, tower, blades, break, etc.). \n",
        "\n",
        "\n",
        "\n",
        "## Objective\n",
        "“ReneWind” is a company working on improving the machinery/processes involved in the production of wind energy using machine learning and has collected data of generator failure of wind turbines using sensors. They have shared a ciphered version of the data, as the data collected through sensors is confidential (the type of data collected varies with companies). Data has 40 predictors, 20000 observations in the training set and 5000 in the test set.\n",
        "\n",
        "The objective is to build various classification models, tune them, and find the best one that will help identify failures so that the generators could be repaired before failing/breaking to reduce the overall maintenance cost. \n",
        "The nature of predictions made by the classification model will translate as follows:\n",
        "\n",
        "- True positives (TP) are failures correctly predicted by the model. These will result in repairing costs.\n",
        "- False negatives (FN) are real failures where there is no detection by the model. These will result in replacement costs.\n",
        "- False positives (FP) are detections where there is no failure. These will result in inspection costs.\n",
        "\n",
        "It is given that the cost of repairing a generator is much less than the cost of replacing it, and the cost of inspection is less than the cost of repair.\n",
        "\n",
        "“1” in the target variables should be considered as “failure” and “0” represents “No failure”.\n",
        "\n",
        "## Data Description\n",
        "- The data provided is a transformed version of original data which was collected using sensors.\n",
        "- Train.csv - To be used for training and tuning of models. \n",
        "- Test.csv - To be used only for testing the performance of the final best model.\n",
        "- Both the datasets consist of 40 predictor variables and 1 target variable"
      ]
    },
    {
      "cell_type": "markdown",
      "metadata": {
        "id": "NbHOIdlwcrqR"
      },
      "source": [
        "### **Please read the instructions carefully before starting the project.** \n",
        "This is a commented Jupyter IPython Notebook file in which all the instructions and tasks to be performed are mentioned. \n",
        "* Blanks '_______' are provided in the notebook that \n",
        "needs to be filled with an appropriate code to get the correct result. With every '_______' blank, there is a comment that briefly describes what needs to be filled in the blank space. \n",
        "* Identify the task to be performed correctly, and only then proceed to write the required code.\n",
        "* Fill the code wherever asked by the commented lines like \"# write your code here\" or \"# complete the code\". Running incomplete code may throw error.\n",
        "* Please run the codes in a sequential manner from the beginning to avoid any unnecessary errors.\n",
        "* Add the results/observations (wherever mentioned) derived from the analysis in the presentation and submit the same.\n"
      ]
    },
    {
      "cell_type": "markdown",
      "metadata": {
        "id": "v_-uuGqH-qTt"
      },
      "source": [
        "## Importing necessary libraries"
      ]
    },
    {
      "cell_type": "code",
      "metadata": {
        "id": "dbiVVX6hbp0v"
      },
      "source": [
        "# Libraries to help with reading and manipulating data\n",
        "import pandas as pd\n",
        "import numpy as np\n",
        "\n",
        "# Libaries to help with data visualization\n",
        "import matplotlib.pyplot as plt\n",
        "import seaborn as sns\n",
        "\n",
        "# To tune model, get different metric scores, and split data\n",
        "from sklearn.metrics import (\n",
        "    f1_score,\n",
        "    accuracy_score,\n",
        "    recall_score,\n",
        "    precision_score,\n",
        "    confusion_matrix,\n",
        "    roc_auc_score,\n",
        "    plot_confusion_matrix,\n",
        ")\n",
        "from sklearn import metrics\n",
        "\n",
        "from sklearn.model_selection import train_test_split, StratifiedKFold, cross_val_score\n",
        "\n",
        "# To be used for data scaling and one hot encoding\n",
        "from sklearn.preprocessing import StandardScaler, MinMaxScaler, OneHotEncoder\n",
        "\n",
        "# To impute missing values\n",
        "from sklearn.impute import SimpleImputer\n",
        "\n",
        "# To oversample and undersample data\n",
        "from imblearn.over_sampling import SMOTE\n",
        "from imblearn.under_sampling import RandomUnderSampler\n",
        "\n",
        "# To do hyperparameter tuning\n",
        "from sklearn.model_selection import RandomizedSearchCV\n",
        "\n",
        "# To be used for creating pipelines and personalizing them\n",
        "from sklearn.pipeline import Pipeline\n",
        "from sklearn.compose import ColumnTransformer\n",
        "\n",
        "# To define maximum number of columns to be displayed in a dataframe\n",
        "pd.set_option(\"display.max_columns\", None)\n",
        "pd.set_option(\"display.max_rows\", None)\n",
        "\n",
        "# To supress scientific notations for a dataframe\n",
        "pd.set_option(\"display.float_format\", lambda x: \"%.3f\" % x)\n",
        "\n",
        "# To help with model building\n",
        "from sklearn.linear_model import LogisticRegression\n",
        "from sklearn.tree import DecisionTreeClassifier\n",
        "from sklearn.ensemble import (\n",
        "    AdaBoostClassifier,\n",
        "    GradientBoostingClassifier,\n",
        "    RandomForestClassifier,\n",
        "    BaggingClassifier,\n",
        ")\n",
        "from xgboost import XGBClassifier\n",
        "\n",
        "# To suppress scientific notations\n",
        "pd.set_option(\"display.float_format\", lambda x: \"%.3f\" % x)\n",
        "\n",
        "# To suppress warnings\n",
        "import warnings\n",
        "\n",
        "warnings.filterwarnings(\"ignore\")\n",
        "\n",
        "# This will help in making the Python code more structured automatically (good coding practice)\n",
        "#%load_ext nb_black"
      ],
      "execution_count": 11,
      "outputs": []
    },
    {
      "cell_type": "markdown",
      "metadata": {
        "id": "xxhpZv9y-qTw"
      },
      "source": [
        "## Loading the dataset"
      ]
    },
    {
      "cell_type": "code",
      "metadata": {
        "id": "39UgpBY3bp0y"
      },
      "source": [
        "df = pd.read_csv(\"/content/DS-Projects/ReneWind/Files/Train.csv\") ##  Complete the code to read the data\n",
        "df_test = pd.read_csv(\"/content/DS-Projects/ReneWind/Files/Test.csv\") ##  Complete the code to read the data"
      ],
      "execution_count": 13,
      "outputs": []
    },
    {
      "cell_type": "markdown",
      "metadata": {
        "id": "M1TEog7cAs5m"
      },
      "source": [
        "## Data Overview"
      ]
    },
    {
      "cell_type": "markdown",
      "metadata": {
        "id": "W-5jUOgu-qTz"
      },
      "source": [
        "The initial steps to get an overview of any dataset is to: \n",
        "- observe the first few rows of the dataset, to check whether the dataset has been loaded properly or not\n",
        "- get information about the number of rows and columns in the dataset\n",
        "- find out the data types of the columns to ensure that data is stored in the preferred format and the value of each property is as expected.\n",
        "- check the statistical summary of the dataset to get an overview of the numerical columns of the data"
      ]
    },
    {
      "cell_type": "markdown",
      "metadata": {
        "id": "KQi5ygTC-qT1"
      },
      "source": [
        "### Checking the shape of the dataset"
      ]
    },
    {
      "cell_type": "code",
      "metadata": {
        "id": "7Y8epHpjbp0z",
        "colab": {
          "base_uri": "https://localhost:8080/"
        },
        "outputId": "20f268ae-20f2-4d2b-afc6-66617346acdf"
      },
      "source": [
        "# Checking the number of rows and columns in the training data\n",
        "df.shape ##  Complete the code to view dimensions of the train data"
      ],
      "execution_count": 14,
      "outputs": [
        {
          "output_type": "execute_result",
          "data": {
            "text/plain": [
              "(20000, 41)"
            ]
          },
          "metadata": {},
          "execution_count": 14
        }
      ]
    },
    {
      "cell_type": "code",
      "metadata": {
        "id": "hA15qTjzbp01",
        "colab": {
          "base_uri": "https://localhost:8080/"
        },
        "outputId": "da20e145-ff8a-426e-b1f5-98e8e12f593a"
      },
      "source": [
        "# Checking the number of rows and columns in the test data\n",
        "df_test.shape ##  Complete the code to view dimensions of the test data"
      ],
      "execution_count": 15,
      "outputs": [
        {
          "output_type": "execute_result",
          "data": {
            "text/plain": [
              "(5000, 41)"
            ]
          },
          "metadata": {},
          "execution_count": 15
        }
      ]
    },
    {
      "cell_type": "code",
      "metadata": {
        "id": "QTsYJZBubp02"
      },
      "source": [
        "# let's create a copy of the training data\n",
        "data = df.copy()"
      ],
      "execution_count": 16,
      "outputs": []
    },
    {
      "cell_type": "code",
      "metadata": {
        "id": "69ImWbLXbp03"
      },
      "source": [
        "# let's create a copy of the training data\n",
        "data_test = df_test.copy()"
      ],
      "execution_count": 17,
      "outputs": []
    },
    {
      "cell_type": "markdown",
      "metadata": {
        "id": "961px703qhLV"
      },
      "source": [
        "### Displaying the first few rows of the dataset"
      ]
    },
    {
      "cell_type": "code",
      "metadata": {
        "id": "l9RnN7Twbp03",
        "colab": {
          "base_uri": "https://localhost:8080/",
          "height": 270
        },
        "outputId": "1cdab508-edeb-444b-b050-f5750c454066"
      },
      "source": [
        "# let's view the first 5 rows of the data\n",
        "data.head() ##  Complete the code to view top 5 rows of the data"
      ],
      "execution_count": 18,
      "outputs": [
        {
          "output_type": "execute_result",
          "data": {
            "text/plain": [
              "      V1     V2     V3     V4     V5     V6     V7     V8     V9    V10  \\\n",
              "0 -4.465 -4.679  3.102  0.506 -0.221 -2.033 -2.911  0.051 -1.522  3.762   \n",
              "1  3.366  3.653  0.910 -1.368  0.332  2.359  0.733 -4.332  0.566 -0.101   \n",
              "2 -3.832 -5.824  0.634 -2.419 -1.774  1.017 -2.099 -3.173 -2.082  5.393   \n",
              "3  1.618  1.888  7.046 -1.147  0.083 -1.530  0.207 -2.494  0.345  2.119   \n",
              "4 -0.111  3.872 -3.758 -2.983  3.793  0.545  0.205  4.849 -1.855 -6.220   \n",
              "\n",
              "     V11    V12    V13    V14    V15    V16    V17    V18    V19    V20  \\\n",
              "0 -5.715  0.736  0.981  1.418 -3.376 -3.047  0.306  2.914  2.270  4.395   \n",
              "1  1.914 -0.951 -1.255 -2.707  0.193 -4.769 -2.205  0.908  0.757 -5.834   \n",
              "2 -0.771  1.107  1.144  0.943 -3.164 -4.248 -4.039  3.689  3.311  1.059   \n",
              "3 -3.053  0.460  2.705 -0.636 -0.454 -3.174 -3.404 -1.282  1.582 -1.952   \n",
              "4  1.998  4.724  0.709 -1.989 -2.633  4.184  2.245  3.734 -6.313 -5.380   \n",
              "\n",
              "     V21    V22    V23    V24    V25    V26    V27    V28    V29    V30  \\\n",
              "0 -2.388  0.646 -1.191  3.133  0.665 -2.511 -0.037  0.726 -3.982 -1.073   \n",
              "1 -3.065  1.597 -1.757  1.766 -0.267  3.625  1.500 -0.586  0.783 -0.201   \n",
              "2 -2.143  1.650 -1.661  1.680 -0.451 -4.551  3.739  1.134 -2.034  0.841   \n",
              "3 -3.517 -1.206 -5.628 -1.818  2.124  5.295  4.748 -2.309 -3.963 -6.029   \n",
              "4 -0.887  2.062  9.446  4.490 -3.945  4.582 -8.780 -3.383  5.107  6.788   \n",
              "\n",
              "     V31    V32    V33     V34   V35    V36    V37    V38    V39    V40  \\\n",
              "0  1.667  3.060 -1.690   2.846 2.235  6.667  0.444 -2.369  2.951 -3.480   \n",
              "1  0.025 -1.795  3.033  -2.468 1.895 -2.298 -1.731  5.909 -0.386  0.616   \n",
              "2 -1.600 -0.257  0.804   4.086 2.292  5.361  0.352  2.940  3.839 -4.309   \n",
              "3  4.949 -3.584 -2.577   1.364 0.623  5.550 -1.527  0.139  3.101 -1.277   \n",
              "4  2.044  8.266  6.629 -10.069 1.223 -3.230  1.687 -2.164 -3.645  6.510   \n",
              "\n",
              "   Target  \n",
              "0       0  \n",
              "1       0  \n",
              "2       0  \n",
              "3       0  \n",
              "4       0  "
            ],
            "text/html": [
              "\n",
              "  <div id=\"df-e672562e-28fa-4baf-ba04-78219fcd3044\">\n",
              "    <div class=\"colab-df-container\">\n",
              "      <div>\n",
              "<style scoped>\n",
              "    .dataframe tbody tr th:only-of-type {\n",
              "        vertical-align: middle;\n",
              "    }\n",
              "\n",
              "    .dataframe tbody tr th {\n",
              "        vertical-align: top;\n",
              "    }\n",
              "\n",
              "    .dataframe thead th {\n",
              "        text-align: right;\n",
              "    }\n",
              "</style>\n",
              "<table border=\"1\" class=\"dataframe\">\n",
              "  <thead>\n",
              "    <tr style=\"text-align: right;\">\n",
              "      <th></th>\n",
              "      <th>V1</th>\n",
              "      <th>V2</th>\n",
              "      <th>V3</th>\n",
              "      <th>V4</th>\n",
              "      <th>V5</th>\n",
              "      <th>V6</th>\n",
              "      <th>V7</th>\n",
              "      <th>V8</th>\n",
              "      <th>V9</th>\n",
              "      <th>V10</th>\n",
              "      <th>V11</th>\n",
              "      <th>V12</th>\n",
              "      <th>V13</th>\n",
              "      <th>V14</th>\n",
              "      <th>V15</th>\n",
              "      <th>V16</th>\n",
              "      <th>V17</th>\n",
              "      <th>V18</th>\n",
              "      <th>V19</th>\n",
              "      <th>V20</th>\n",
              "      <th>V21</th>\n",
              "      <th>V22</th>\n",
              "      <th>V23</th>\n",
              "      <th>V24</th>\n",
              "      <th>V25</th>\n",
              "      <th>V26</th>\n",
              "      <th>V27</th>\n",
              "      <th>V28</th>\n",
              "      <th>V29</th>\n",
              "      <th>V30</th>\n",
              "      <th>V31</th>\n",
              "      <th>V32</th>\n",
              "      <th>V33</th>\n",
              "      <th>V34</th>\n",
              "      <th>V35</th>\n",
              "      <th>V36</th>\n",
              "      <th>V37</th>\n",
              "      <th>V38</th>\n",
              "      <th>V39</th>\n",
              "      <th>V40</th>\n",
              "      <th>Target</th>\n",
              "    </tr>\n",
              "  </thead>\n",
              "  <tbody>\n",
              "    <tr>\n",
              "      <th>0</th>\n",
              "      <td>-4.465</td>\n",
              "      <td>-4.679</td>\n",
              "      <td>3.102</td>\n",
              "      <td>0.506</td>\n",
              "      <td>-0.221</td>\n",
              "      <td>-2.033</td>\n",
              "      <td>-2.911</td>\n",
              "      <td>0.051</td>\n",
              "      <td>-1.522</td>\n",
              "      <td>3.762</td>\n",
              "      <td>-5.715</td>\n",
              "      <td>0.736</td>\n",
              "      <td>0.981</td>\n",
              "      <td>1.418</td>\n",
              "      <td>-3.376</td>\n",
              "      <td>-3.047</td>\n",
              "      <td>0.306</td>\n",
              "      <td>2.914</td>\n",
              "      <td>2.270</td>\n",
              "      <td>4.395</td>\n",
              "      <td>-2.388</td>\n",
              "      <td>0.646</td>\n",
              "      <td>-1.191</td>\n",
              "      <td>3.133</td>\n",
              "      <td>0.665</td>\n",
              "      <td>-2.511</td>\n",
              "      <td>-0.037</td>\n",
              "      <td>0.726</td>\n",
              "      <td>-3.982</td>\n",
              "      <td>-1.073</td>\n",
              "      <td>1.667</td>\n",
              "      <td>3.060</td>\n",
              "      <td>-1.690</td>\n",
              "      <td>2.846</td>\n",
              "      <td>2.235</td>\n",
              "      <td>6.667</td>\n",
              "      <td>0.444</td>\n",
              "      <td>-2.369</td>\n",
              "      <td>2.951</td>\n",
              "      <td>-3.480</td>\n",
              "      <td>0</td>\n",
              "    </tr>\n",
              "    <tr>\n",
              "      <th>1</th>\n",
              "      <td>3.366</td>\n",
              "      <td>3.653</td>\n",
              "      <td>0.910</td>\n",
              "      <td>-1.368</td>\n",
              "      <td>0.332</td>\n",
              "      <td>2.359</td>\n",
              "      <td>0.733</td>\n",
              "      <td>-4.332</td>\n",
              "      <td>0.566</td>\n",
              "      <td>-0.101</td>\n",
              "      <td>1.914</td>\n",
              "      <td>-0.951</td>\n",
              "      <td>-1.255</td>\n",
              "      <td>-2.707</td>\n",
              "      <td>0.193</td>\n",
              "      <td>-4.769</td>\n",
              "      <td>-2.205</td>\n",
              "      <td>0.908</td>\n",
              "      <td>0.757</td>\n",
              "      <td>-5.834</td>\n",
              "      <td>-3.065</td>\n",
              "      <td>1.597</td>\n",
              "      <td>-1.757</td>\n",
              "      <td>1.766</td>\n",
              "      <td>-0.267</td>\n",
              "      <td>3.625</td>\n",
              "      <td>1.500</td>\n",
              "      <td>-0.586</td>\n",
              "      <td>0.783</td>\n",
              "      <td>-0.201</td>\n",
              "      <td>0.025</td>\n",
              "      <td>-1.795</td>\n",
              "      <td>3.033</td>\n",
              "      <td>-2.468</td>\n",
              "      <td>1.895</td>\n",
              "      <td>-2.298</td>\n",
              "      <td>-1.731</td>\n",
              "      <td>5.909</td>\n",
              "      <td>-0.386</td>\n",
              "      <td>0.616</td>\n",
              "      <td>0</td>\n",
              "    </tr>\n",
              "    <tr>\n",
              "      <th>2</th>\n",
              "      <td>-3.832</td>\n",
              "      <td>-5.824</td>\n",
              "      <td>0.634</td>\n",
              "      <td>-2.419</td>\n",
              "      <td>-1.774</td>\n",
              "      <td>1.017</td>\n",
              "      <td>-2.099</td>\n",
              "      <td>-3.173</td>\n",
              "      <td>-2.082</td>\n",
              "      <td>5.393</td>\n",
              "      <td>-0.771</td>\n",
              "      <td>1.107</td>\n",
              "      <td>1.144</td>\n",
              "      <td>0.943</td>\n",
              "      <td>-3.164</td>\n",
              "      <td>-4.248</td>\n",
              "      <td>-4.039</td>\n",
              "      <td>3.689</td>\n",
              "      <td>3.311</td>\n",
              "      <td>1.059</td>\n",
              "      <td>-2.143</td>\n",
              "      <td>1.650</td>\n",
              "      <td>-1.661</td>\n",
              "      <td>1.680</td>\n",
              "      <td>-0.451</td>\n",
              "      <td>-4.551</td>\n",
              "      <td>3.739</td>\n",
              "      <td>1.134</td>\n",
              "      <td>-2.034</td>\n",
              "      <td>0.841</td>\n",
              "      <td>-1.600</td>\n",
              "      <td>-0.257</td>\n",
              "      <td>0.804</td>\n",
              "      <td>4.086</td>\n",
              "      <td>2.292</td>\n",
              "      <td>5.361</td>\n",
              "      <td>0.352</td>\n",
              "      <td>2.940</td>\n",
              "      <td>3.839</td>\n",
              "      <td>-4.309</td>\n",
              "      <td>0</td>\n",
              "    </tr>\n",
              "    <tr>\n",
              "      <th>3</th>\n",
              "      <td>1.618</td>\n",
              "      <td>1.888</td>\n",
              "      <td>7.046</td>\n",
              "      <td>-1.147</td>\n",
              "      <td>0.083</td>\n",
              "      <td>-1.530</td>\n",
              "      <td>0.207</td>\n",
              "      <td>-2.494</td>\n",
              "      <td>0.345</td>\n",
              "      <td>2.119</td>\n",
              "      <td>-3.053</td>\n",
              "      <td>0.460</td>\n",
              "      <td>2.705</td>\n",
              "      <td>-0.636</td>\n",
              "      <td>-0.454</td>\n",
              "      <td>-3.174</td>\n",
              "      <td>-3.404</td>\n",
              "      <td>-1.282</td>\n",
              "      <td>1.582</td>\n",
              "      <td>-1.952</td>\n",
              "      <td>-3.517</td>\n",
              "      <td>-1.206</td>\n",
              "      <td>-5.628</td>\n",
              "      <td>-1.818</td>\n",
              "      <td>2.124</td>\n",
              "      <td>5.295</td>\n",
              "      <td>4.748</td>\n",
              "      <td>-2.309</td>\n",
              "      <td>-3.963</td>\n",
              "      <td>-6.029</td>\n",
              "      <td>4.949</td>\n",
              "      <td>-3.584</td>\n",
              "      <td>-2.577</td>\n",
              "      <td>1.364</td>\n",
              "      <td>0.623</td>\n",
              "      <td>5.550</td>\n",
              "      <td>-1.527</td>\n",
              "      <td>0.139</td>\n",
              "      <td>3.101</td>\n",
              "      <td>-1.277</td>\n",
              "      <td>0</td>\n",
              "    </tr>\n",
              "    <tr>\n",
              "      <th>4</th>\n",
              "      <td>-0.111</td>\n",
              "      <td>3.872</td>\n",
              "      <td>-3.758</td>\n",
              "      <td>-2.983</td>\n",
              "      <td>3.793</td>\n",
              "      <td>0.545</td>\n",
              "      <td>0.205</td>\n",
              "      <td>4.849</td>\n",
              "      <td>-1.855</td>\n",
              "      <td>-6.220</td>\n",
              "      <td>1.998</td>\n",
              "      <td>4.724</td>\n",
              "      <td>0.709</td>\n",
              "      <td>-1.989</td>\n",
              "      <td>-2.633</td>\n",
              "      <td>4.184</td>\n",
              "      <td>2.245</td>\n",
              "      <td>3.734</td>\n",
              "      <td>-6.313</td>\n",
              "      <td>-5.380</td>\n",
              "      <td>-0.887</td>\n",
              "      <td>2.062</td>\n",
              "      <td>9.446</td>\n",
              "      <td>4.490</td>\n",
              "      <td>-3.945</td>\n",
              "      <td>4.582</td>\n",
              "      <td>-8.780</td>\n",
              "      <td>-3.383</td>\n",
              "      <td>5.107</td>\n",
              "      <td>6.788</td>\n",
              "      <td>2.044</td>\n",
              "      <td>8.266</td>\n",
              "      <td>6.629</td>\n",
              "      <td>-10.069</td>\n",
              "      <td>1.223</td>\n",
              "      <td>-3.230</td>\n",
              "      <td>1.687</td>\n",
              "      <td>-2.164</td>\n",
              "      <td>-3.645</td>\n",
              "      <td>6.510</td>\n",
              "      <td>0</td>\n",
              "    </tr>\n",
              "  </tbody>\n",
              "</table>\n",
              "</div>\n",
              "      <button class=\"colab-df-convert\" onclick=\"convertToInteractive('df-e672562e-28fa-4baf-ba04-78219fcd3044')\"\n",
              "              title=\"Convert this dataframe to an interactive table.\"\n",
              "              style=\"display:none;\">\n",
              "        \n",
              "  <svg xmlns=\"http://www.w3.org/2000/svg\" height=\"24px\"viewBox=\"0 0 24 24\"\n",
              "       width=\"24px\">\n",
              "    <path d=\"M0 0h24v24H0V0z\" fill=\"none\"/>\n",
              "    <path d=\"M18.56 5.44l.94 2.06.94-2.06 2.06-.94-2.06-.94-.94-2.06-.94 2.06-2.06.94zm-11 1L8.5 8.5l.94-2.06 2.06-.94-2.06-.94L8.5 2.5l-.94 2.06-2.06.94zm10 10l.94 2.06.94-2.06 2.06-.94-2.06-.94-.94-2.06-.94 2.06-2.06.94z\"/><path d=\"M17.41 7.96l-1.37-1.37c-.4-.4-.92-.59-1.43-.59-.52 0-1.04.2-1.43.59L10.3 9.45l-7.72 7.72c-.78.78-.78 2.05 0 2.83L4 21.41c.39.39.9.59 1.41.59.51 0 1.02-.2 1.41-.59l7.78-7.78 2.81-2.81c.8-.78.8-2.07 0-2.86zM5.41 20L4 18.59l7.72-7.72 1.47 1.35L5.41 20z\"/>\n",
              "  </svg>\n",
              "      </button>\n",
              "      \n",
              "  <style>\n",
              "    .colab-df-container {\n",
              "      display:flex;\n",
              "      flex-wrap:wrap;\n",
              "      gap: 12px;\n",
              "    }\n",
              "\n",
              "    .colab-df-convert {\n",
              "      background-color: #E8F0FE;\n",
              "      border: none;\n",
              "      border-radius: 50%;\n",
              "      cursor: pointer;\n",
              "      display: none;\n",
              "      fill: #1967D2;\n",
              "      height: 32px;\n",
              "      padding: 0 0 0 0;\n",
              "      width: 32px;\n",
              "    }\n",
              "\n",
              "    .colab-df-convert:hover {\n",
              "      background-color: #E2EBFA;\n",
              "      box-shadow: 0px 1px 2px rgba(60, 64, 67, 0.3), 0px 1px 3px 1px rgba(60, 64, 67, 0.15);\n",
              "      fill: #174EA6;\n",
              "    }\n",
              "\n",
              "    [theme=dark] .colab-df-convert {\n",
              "      background-color: #3B4455;\n",
              "      fill: #D2E3FC;\n",
              "    }\n",
              "\n",
              "    [theme=dark] .colab-df-convert:hover {\n",
              "      background-color: #434B5C;\n",
              "      box-shadow: 0px 1px 3px 1px rgba(0, 0, 0, 0.15);\n",
              "      filter: drop-shadow(0px 1px 2px rgba(0, 0, 0, 0.3));\n",
              "      fill: #FFFFFF;\n",
              "    }\n",
              "  </style>\n",
              "\n",
              "      <script>\n",
              "        const buttonEl =\n",
              "          document.querySelector('#df-e672562e-28fa-4baf-ba04-78219fcd3044 button.colab-df-convert');\n",
              "        buttonEl.style.display =\n",
              "          google.colab.kernel.accessAllowed ? 'block' : 'none';\n",
              "\n",
              "        async function convertToInteractive(key) {\n",
              "          const element = document.querySelector('#df-e672562e-28fa-4baf-ba04-78219fcd3044');\n",
              "          const dataTable =\n",
              "            await google.colab.kernel.invokeFunction('convertToInteractive',\n",
              "                                                     [key], {});\n",
              "          if (!dataTable) return;\n",
              "\n",
              "          const docLinkHtml = 'Like what you see? Visit the ' +\n",
              "            '<a target=\"_blank\" href=https://colab.research.google.com/notebooks/data_table.ipynb>data table notebook</a>'\n",
              "            + ' to learn more about interactive tables.';\n",
              "          element.innerHTML = '';\n",
              "          dataTable['output_type'] = 'display_data';\n",
              "          await google.colab.output.renderOutput(dataTable, element);\n",
              "          const docLink = document.createElement('div');\n",
              "          docLink.innerHTML = docLinkHtml;\n",
              "          element.appendChild(docLink);\n",
              "        }\n",
              "      </script>\n",
              "    </div>\n",
              "  </div>\n",
              "  "
            ]
          },
          "metadata": {},
          "execution_count": 18
        }
      ]
    },
    {
      "cell_type": "code",
      "metadata": {
        "id": "N9Ir8YPgbp04",
        "colab": {
          "base_uri": "https://localhost:8080/",
          "height": 270
        },
        "outputId": "79ee69a6-def7-4be1-bfae-d70b4dfa0fc4"
      },
      "source": [
        "# let's view the last 5 rows of the data\n",
        "data_test.tail() ##  Complete the code to view last 5 rows of the data  "
      ],
      "execution_count": 19,
      "outputs": [
        {
          "output_type": "execute_result",
          "data": {
            "text/plain": [
              "         V1     V2     V3     V4     V5     V6     V7     V8     V9    V10  \\\n",
              "4995 -5.120  1.635  1.251  4.036  3.291 -2.932 -1.329  1.754 -2.985  1.249   \n",
              "4996 -5.172  1.172  1.579  1.220  2.530 -0.669 -2.618 -2.001  0.634 -0.579   \n",
              "4997 -1.114 -0.404 -1.765 -5.879  3.572  3.711 -2.483 -0.308 -0.922 -2.999   \n",
              "4998 -1.703  0.615  6.221 -0.104  0.956 -3.279 -1.634 -0.104  1.388 -1.066   \n",
              "4999 -0.604  0.960 -0.721  8.230 -1.816 -2.276 -2.575 -1.041  4.130 -2.731   \n",
              "\n",
              "        V11    V12    V13    V14    V15    V16    V17   V18    V19    V20  \\\n",
              "4995 -6.878  3.715 -2.512 -1.395 -2.554 -2.197  4.772 2.403  3.792  0.487   \n",
              "4996 -3.671  0.460  3.321 -1.075 -7.113 -4.356 -0.001 3.698 -0.846 -0.222   \n",
              "4997 -0.112 -1.977 -1.623 -0.945 -2.735 -0.813  0.610 8.149 -9.199 -3.872   \n",
              "4998 -7.970  2.262  3.134 -0.486 -3.498 -4.562  3.136 2.536 -0.792  4.398   \n",
              "4999 -3.292 -1.674  0.465 -1.646 -5.263 -7.988  6.480 0.226  4.963  6.752   \n",
              "\n",
              "        V21    V22    V23    V24    V25    V26    V27    V28    V29    V30  \\\n",
              "4995 -2.028  1.778  3.668 11.375 -1.977  2.252 -7.319  1.907 -3.734 -0.012   \n",
              "4996 -3.645  0.736  0.926  3.278 -2.277  4.458 -4.543 -1.348 -1.779  0.352   \n",
              "4997 -0.296  1.468  2.884  2.792 -1.136  1.198 -4.342 -2.869  4.124  4.197   \n",
              "4998 -4.073 -0.038 -2.371 -1.542  2.908  3.215 -0.169 -1.541 -4.724 -5.525   \n",
              "4999 -6.306  3.271  1.897  3.271 -0.637 -0.925 -6.759  2.990 -0.814  3.499   \n",
              "\n",
              "        V31    V32    V33     V34    V35    V36    V37    V38    V39    V40  \\\n",
              "4995  2.120  9.979  0.063   0.217  3.036  2.109 -0.557  1.939  0.513 -2.694   \n",
              "4996 -0.214  4.424  2.604  -2.152  0.917  2.157  0.467  0.470  2.197 -2.377   \n",
              "4997  3.471  3.792  7.482 -10.061 -0.387  1.849  1.818 -1.246 -1.261  7.475   \n",
              "4998  1.668 -4.100 -5.949   0.550 -1.574  6.824  2.139 -4.036  3.436  0.579   \n",
              "4999 -8.435  2.370 -1.062   0.791  4.952 -7.441 -0.070 -0.918 -2.291 -5.363   \n",
              "\n",
              "      Target  \n",
              "4995       0  \n",
              "4996       0  \n",
              "4997       0  \n",
              "4998       0  \n",
              "4999       0  "
            ],
            "text/html": [
              "\n",
              "  <div id=\"df-3272e7d4-6ee0-4b70-b356-d8ca75736b5d\">\n",
              "    <div class=\"colab-df-container\">\n",
              "      <div>\n",
              "<style scoped>\n",
              "    .dataframe tbody tr th:only-of-type {\n",
              "        vertical-align: middle;\n",
              "    }\n",
              "\n",
              "    .dataframe tbody tr th {\n",
              "        vertical-align: top;\n",
              "    }\n",
              "\n",
              "    .dataframe thead th {\n",
              "        text-align: right;\n",
              "    }\n",
              "</style>\n",
              "<table border=\"1\" class=\"dataframe\">\n",
              "  <thead>\n",
              "    <tr style=\"text-align: right;\">\n",
              "      <th></th>\n",
              "      <th>V1</th>\n",
              "      <th>V2</th>\n",
              "      <th>V3</th>\n",
              "      <th>V4</th>\n",
              "      <th>V5</th>\n",
              "      <th>V6</th>\n",
              "      <th>V7</th>\n",
              "      <th>V8</th>\n",
              "      <th>V9</th>\n",
              "      <th>V10</th>\n",
              "      <th>V11</th>\n",
              "      <th>V12</th>\n",
              "      <th>V13</th>\n",
              "      <th>V14</th>\n",
              "      <th>V15</th>\n",
              "      <th>V16</th>\n",
              "      <th>V17</th>\n",
              "      <th>V18</th>\n",
              "      <th>V19</th>\n",
              "      <th>V20</th>\n",
              "      <th>V21</th>\n",
              "      <th>V22</th>\n",
              "      <th>V23</th>\n",
              "      <th>V24</th>\n",
              "      <th>V25</th>\n",
              "      <th>V26</th>\n",
              "      <th>V27</th>\n",
              "      <th>V28</th>\n",
              "      <th>V29</th>\n",
              "      <th>V30</th>\n",
              "      <th>V31</th>\n",
              "      <th>V32</th>\n",
              "      <th>V33</th>\n",
              "      <th>V34</th>\n",
              "      <th>V35</th>\n",
              "      <th>V36</th>\n",
              "      <th>V37</th>\n",
              "      <th>V38</th>\n",
              "      <th>V39</th>\n",
              "      <th>V40</th>\n",
              "      <th>Target</th>\n",
              "    </tr>\n",
              "  </thead>\n",
              "  <tbody>\n",
              "    <tr>\n",
              "      <th>4995</th>\n",
              "      <td>-5.120</td>\n",
              "      <td>1.635</td>\n",
              "      <td>1.251</td>\n",
              "      <td>4.036</td>\n",
              "      <td>3.291</td>\n",
              "      <td>-2.932</td>\n",
              "      <td>-1.329</td>\n",
              "      <td>1.754</td>\n",
              "      <td>-2.985</td>\n",
              "      <td>1.249</td>\n",
              "      <td>-6.878</td>\n",
              "      <td>3.715</td>\n",
              "      <td>-2.512</td>\n",
              "      <td>-1.395</td>\n",
              "      <td>-2.554</td>\n",
              "      <td>-2.197</td>\n",
              "      <td>4.772</td>\n",
              "      <td>2.403</td>\n",
              "      <td>3.792</td>\n",
              "      <td>0.487</td>\n",
              "      <td>-2.028</td>\n",
              "      <td>1.778</td>\n",
              "      <td>3.668</td>\n",
              "      <td>11.375</td>\n",
              "      <td>-1.977</td>\n",
              "      <td>2.252</td>\n",
              "      <td>-7.319</td>\n",
              "      <td>1.907</td>\n",
              "      <td>-3.734</td>\n",
              "      <td>-0.012</td>\n",
              "      <td>2.120</td>\n",
              "      <td>9.979</td>\n",
              "      <td>0.063</td>\n",
              "      <td>0.217</td>\n",
              "      <td>3.036</td>\n",
              "      <td>2.109</td>\n",
              "      <td>-0.557</td>\n",
              "      <td>1.939</td>\n",
              "      <td>0.513</td>\n",
              "      <td>-2.694</td>\n",
              "      <td>0</td>\n",
              "    </tr>\n",
              "    <tr>\n",
              "      <th>4996</th>\n",
              "      <td>-5.172</td>\n",
              "      <td>1.172</td>\n",
              "      <td>1.579</td>\n",
              "      <td>1.220</td>\n",
              "      <td>2.530</td>\n",
              "      <td>-0.669</td>\n",
              "      <td>-2.618</td>\n",
              "      <td>-2.001</td>\n",
              "      <td>0.634</td>\n",
              "      <td>-0.579</td>\n",
              "      <td>-3.671</td>\n",
              "      <td>0.460</td>\n",
              "      <td>3.321</td>\n",
              "      <td>-1.075</td>\n",
              "      <td>-7.113</td>\n",
              "      <td>-4.356</td>\n",
              "      <td>-0.001</td>\n",
              "      <td>3.698</td>\n",
              "      <td>-0.846</td>\n",
              "      <td>-0.222</td>\n",
              "      <td>-3.645</td>\n",
              "      <td>0.736</td>\n",
              "      <td>0.926</td>\n",
              "      <td>3.278</td>\n",
              "      <td>-2.277</td>\n",
              "      <td>4.458</td>\n",
              "      <td>-4.543</td>\n",
              "      <td>-1.348</td>\n",
              "      <td>-1.779</td>\n",
              "      <td>0.352</td>\n",
              "      <td>-0.214</td>\n",
              "      <td>4.424</td>\n",
              "      <td>2.604</td>\n",
              "      <td>-2.152</td>\n",
              "      <td>0.917</td>\n",
              "      <td>2.157</td>\n",
              "      <td>0.467</td>\n",
              "      <td>0.470</td>\n",
              "      <td>2.197</td>\n",
              "      <td>-2.377</td>\n",
              "      <td>0</td>\n",
              "    </tr>\n",
              "    <tr>\n",
              "      <th>4997</th>\n",
              "      <td>-1.114</td>\n",
              "      <td>-0.404</td>\n",
              "      <td>-1.765</td>\n",
              "      <td>-5.879</td>\n",
              "      <td>3.572</td>\n",
              "      <td>3.711</td>\n",
              "      <td>-2.483</td>\n",
              "      <td>-0.308</td>\n",
              "      <td>-0.922</td>\n",
              "      <td>-2.999</td>\n",
              "      <td>-0.112</td>\n",
              "      <td>-1.977</td>\n",
              "      <td>-1.623</td>\n",
              "      <td>-0.945</td>\n",
              "      <td>-2.735</td>\n",
              "      <td>-0.813</td>\n",
              "      <td>0.610</td>\n",
              "      <td>8.149</td>\n",
              "      <td>-9.199</td>\n",
              "      <td>-3.872</td>\n",
              "      <td>-0.296</td>\n",
              "      <td>1.468</td>\n",
              "      <td>2.884</td>\n",
              "      <td>2.792</td>\n",
              "      <td>-1.136</td>\n",
              "      <td>1.198</td>\n",
              "      <td>-4.342</td>\n",
              "      <td>-2.869</td>\n",
              "      <td>4.124</td>\n",
              "      <td>4.197</td>\n",
              "      <td>3.471</td>\n",
              "      <td>3.792</td>\n",
              "      <td>7.482</td>\n",
              "      <td>-10.061</td>\n",
              "      <td>-0.387</td>\n",
              "      <td>1.849</td>\n",
              "      <td>1.818</td>\n",
              "      <td>-1.246</td>\n",
              "      <td>-1.261</td>\n",
              "      <td>7.475</td>\n",
              "      <td>0</td>\n",
              "    </tr>\n",
              "    <tr>\n",
              "      <th>4998</th>\n",
              "      <td>-1.703</td>\n",
              "      <td>0.615</td>\n",
              "      <td>6.221</td>\n",
              "      <td>-0.104</td>\n",
              "      <td>0.956</td>\n",
              "      <td>-3.279</td>\n",
              "      <td>-1.634</td>\n",
              "      <td>-0.104</td>\n",
              "      <td>1.388</td>\n",
              "      <td>-1.066</td>\n",
              "      <td>-7.970</td>\n",
              "      <td>2.262</td>\n",
              "      <td>3.134</td>\n",
              "      <td>-0.486</td>\n",
              "      <td>-3.498</td>\n",
              "      <td>-4.562</td>\n",
              "      <td>3.136</td>\n",
              "      <td>2.536</td>\n",
              "      <td>-0.792</td>\n",
              "      <td>4.398</td>\n",
              "      <td>-4.073</td>\n",
              "      <td>-0.038</td>\n",
              "      <td>-2.371</td>\n",
              "      <td>-1.542</td>\n",
              "      <td>2.908</td>\n",
              "      <td>3.215</td>\n",
              "      <td>-0.169</td>\n",
              "      <td>-1.541</td>\n",
              "      <td>-4.724</td>\n",
              "      <td>-5.525</td>\n",
              "      <td>1.668</td>\n",
              "      <td>-4.100</td>\n",
              "      <td>-5.949</td>\n",
              "      <td>0.550</td>\n",
              "      <td>-1.574</td>\n",
              "      <td>6.824</td>\n",
              "      <td>2.139</td>\n",
              "      <td>-4.036</td>\n",
              "      <td>3.436</td>\n",
              "      <td>0.579</td>\n",
              "      <td>0</td>\n",
              "    </tr>\n",
              "    <tr>\n",
              "      <th>4999</th>\n",
              "      <td>-0.604</td>\n",
              "      <td>0.960</td>\n",
              "      <td>-0.721</td>\n",
              "      <td>8.230</td>\n",
              "      <td>-1.816</td>\n",
              "      <td>-2.276</td>\n",
              "      <td>-2.575</td>\n",
              "      <td>-1.041</td>\n",
              "      <td>4.130</td>\n",
              "      <td>-2.731</td>\n",
              "      <td>-3.292</td>\n",
              "      <td>-1.674</td>\n",
              "      <td>0.465</td>\n",
              "      <td>-1.646</td>\n",
              "      <td>-5.263</td>\n",
              "      <td>-7.988</td>\n",
              "      <td>6.480</td>\n",
              "      <td>0.226</td>\n",
              "      <td>4.963</td>\n",
              "      <td>6.752</td>\n",
              "      <td>-6.306</td>\n",
              "      <td>3.271</td>\n",
              "      <td>1.897</td>\n",
              "      <td>3.271</td>\n",
              "      <td>-0.637</td>\n",
              "      <td>-0.925</td>\n",
              "      <td>-6.759</td>\n",
              "      <td>2.990</td>\n",
              "      <td>-0.814</td>\n",
              "      <td>3.499</td>\n",
              "      <td>-8.435</td>\n",
              "      <td>2.370</td>\n",
              "      <td>-1.062</td>\n",
              "      <td>0.791</td>\n",
              "      <td>4.952</td>\n",
              "      <td>-7.441</td>\n",
              "      <td>-0.070</td>\n",
              "      <td>-0.918</td>\n",
              "      <td>-2.291</td>\n",
              "      <td>-5.363</td>\n",
              "      <td>0</td>\n",
              "    </tr>\n",
              "  </tbody>\n",
              "</table>\n",
              "</div>\n",
              "      <button class=\"colab-df-convert\" onclick=\"convertToInteractive('df-3272e7d4-6ee0-4b70-b356-d8ca75736b5d')\"\n",
              "              title=\"Convert this dataframe to an interactive table.\"\n",
              "              style=\"display:none;\">\n",
              "        \n",
              "  <svg xmlns=\"http://www.w3.org/2000/svg\" height=\"24px\"viewBox=\"0 0 24 24\"\n",
              "       width=\"24px\">\n",
              "    <path d=\"M0 0h24v24H0V0z\" fill=\"none\"/>\n",
              "    <path d=\"M18.56 5.44l.94 2.06.94-2.06 2.06-.94-2.06-.94-.94-2.06-.94 2.06-2.06.94zm-11 1L8.5 8.5l.94-2.06 2.06-.94-2.06-.94L8.5 2.5l-.94 2.06-2.06.94zm10 10l.94 2.06.94-2.06 2.06-.94-2.06-.94-.94-2.06-.94 2.06-2.06.94z\"/><path d=\"M17.41 7.96l-1.37-1.37c-.4-.4-.92-.59-1.43-.59-.52 0-1.04.2-1.43.59L10.3 9.45l-7.72 7.72c-.78.78-.78 2.05 0 2.83L4 21.41c.39.39.9.59 1.41.59.51 0 1.02-.2 1.41-.59l7.78-7.78 2.81-2.81c.8-.78.8-2.07 0-2.86zM5.41 20L4 18.59l7.72-7.72 1.47 1.35L5.41 20z\"/>\n",
              "  </svg>\n",
              "      </button>\n",
              "      \n",
              "  <style>\n",
              "    .colab-df-container {\n",
              "      display:flex;\n",
              "      flex-wrap:wrap;\n",
              "      gap: 12px;\n",
              "    }\n",
              "\n",
              "    .colab-df-convert {\n",
              "      background-color: #E8F0FE;\n",
              "      border: none;\n",
              "      border-radius: 50%;\n",
              "      cursor: pointer;\n",
              "      display: none;\n",
              "      fill: #1967D2;\n",
              "      height: 32px;\n",
              "      padding: 0 0 0 0;\n",
              "      width: 32px;\n",
              "    }\n",
              "\n",
              "    .colab-df-convert:hover {\n",
              "      background-color: #E2EBFA;\n",
              "      box-shadow: 0px 1px 2px rgba(60, 64, 67, 0.3), 0px 1px 3px 1px rgba(60, 64, 67, 0.15);\n",
              "      fill: #174EA6;\n",
              "    }\n",
              "\n",
              "    [theme=dark] .colab-df-convert {\n",
              "      background-color: #3B4455;\n",
              "      fill: #D2E3FC;\n",
              "    }\n",
              "\n",
              "    [theme=dark] .colab-df-convert:hover {\n",
              "      background-color: #434B5C;\n",
              "      box-shadow: 0px 1px 3px 1px rgba(0, 0, 0, 0.15);\n",
              "      filter: drop-shadow(0px 1px 2px rgba(0, 0, 0, 0.3));\n",
              "      fill: #FFFFFF;\n",
              "    }\n",
              "  </style>\n",
              "\n",
              "      <script>\n",
              "        const buttonEl =\n",
              "          document.querySelector('#df-3272e7d4-6ee0-4b70-b356-d8ca75736b5d button.colab-df-convert');\n",
              "        buttonEl.style.display =\n",
              "          google.colab.kernel.accessAllowed ? 'block' : 'none';\n",
              "\n",
              "        async function convertToInteractive(key) {\n",
              "          const element = document.querySelector('#df-3272e7d4-6ee0-4b70-b356-d8ca75736b5d');\n",
              "          const dataTable =\n",
              "            await google.colab.kernel.invokeFunction('convertToInteractive',\n",
              "                                                     [key], {});\n",
              "          if (!dataTable) return;\n",
              "\n",
              "          const docLinkHtml = 'Like what you see? Visit the ' +\n",
              "            '<a target=\"_blank\" href=https://colab.research.google.com/notebooks/data_table.ipynb>data table notebook</a>'\n",
              "            + ' to learn more about interactive tables.';\n",
              "          element.innerHTML = '';\n",
              "          dataTable['output_type'] = 'display_data';\n",
              "          await google.colab.output.renderOutput(dataTable, element);\n",
              "          const docLink = document.createElement('div');\n",
              "          docLink.innerHTML = docLinkHtml;\n",
              "          element.appendChild(docLink);\n",
              "        }\n",
              "      </script>\n",
              "    </div>\n",
              "  </div>\n",
              "  "
            ]
          },
          "metadata": {},
          "execution_count": 19
        }
      ]
    },
    {
      "cell_type": "markdown",
      "metadata": {
        "id": "5TcqcxbK-qT3"
      },
      "source": [
        "### Checking the data types of the columns for the dataset"
      ]
    },
    {
      "cell_type": "code",
      "metadata": {
        "id": "EXBYJoKkbp04",
        "colab": {
          "base_uri": "https://localhost:8080/"
        },
        "outputId": "f04a81e6-b5e0-4aae-9473-56ec68c68134"
      },
      "source": [
        "# let's check the data types of the columns in the dataset\n",
        "data.info()"
      ],
      "execution_count": 20,
      "outputs": [
        {
          "output_type": "stream",
          "name": "stdout",
          "text": [
            "<class 'pandas.core.frame.DataFrame'>\n",
            "RangeIndex: 20000 entries, 0 to 19999\n",
            "Data columns (total 41 columns):\n",
            " #   Column  Non-Null Count  Dtype  \n",
            "---  ------  --------------  -----  \n",
            " 0   V1      19982 non-null  float64\n",
            " 1   V2      19982 non-null  float64\n",
            " 2   V3      20000 non-null  float64\n",
            " 3   V4      20000 non-null  float64\n",
            " 4   V5      20000 non-null  float64\n",
            " 5   V6      20000 non-null  float64\n",
            " 6   V7      20000 non-null  float64\n",
            " 7   V8      20000 non-null  float64\n",
            " 8   V9      20000 non-null  float64\n",
            " 9   V10     20000 non-null  float64\n",
            " 10  V11     20000 non-null  float64\n",
            " 11  V12     20000 non-null  float64\n",
            " 12  V13     20000 non-null  float64\n",
            " 13  V14     20000 non-null  float64\n",
            " 14  V15     20000 non-null  float64\n",
            " 15  V16     20000 non-null  float64\n",
            " 16  V17     20000 non-null  float64\n",
            " 17  V18     20000 non-null  float64\n",
            " 18  V19     20000 non-null  float64\n",
            " 19  V20     20000 non-null  float64\n",
            " 20  V21     20000 non-null  float64\n",
            " 21  V22     20000 non-null  float64\n",
            " 22  V23     20000 non-null  float64\n",
            " 23  V24     20000 non-null  float64\n",
            " 24  V25     20000 non-null  float64\n",
            " 25  V26     20000 non-null  float64\n",
            " 26  V27     20000 non-null  float64\n",
            " 27  V28     20000 non-null  float64\n",
            " 28  V29     20000 non-null  float64\n",
            " 29  V30     20000 non-null  float64\n",
            " 30  V31     20000 non-null  float64\n",
            " 31  V32     20000 non-null  float64\n",
            " 32  V33     20000 non-null  float64\n",
            " 33  V34     20000 non-null  float64\n",
            " 34  V35     20000 non-null  float64\n",
            " 35  V36     20000 non-null  float64\n",
            " 36  V37     20000 non-null  float64\n",
            " 37  V38     20000 non-null  float64\n",
            " 38  V39     20000 non-null  float64\n",
            " 39  V40     20000 non-null  float64\n",
            " 40  Target  20000 non-null  int64  \n",
            "dtypes: float64(40), int64(1)\n",
            "memory usage: 6.3 MB\n"
          ]
        }
      ]
    },
    {
      "cell_type": "markdown",
      "metadata": {
        "id": "xNr4bWoM-qT5"
      },
      "source": [
        "### Checking for duplicate values"
      ]
    },
    {
      "cell_type": "code",
      "metadata": {
        "id": "V0EmBHNmbp04"
      },
      "source": [
        "# let's check for duplicate values in the data\n",
        "data.'_______' ##  Complete the code to check duplicate entries in the data"
      ],
      "execution_count": null,
      "outputs": []
    },
    {
      "cell_type": "markdown",
      "metadata": {
        "id": "Ch_TjRfF-qT5"
      },
      "source": [
        "### Checking for missing values"
      ]
    },
    {
      "cell_type": "code",
      "metadata": {
        "id": "SlwFZm-Jbp05"
      },
      "source": [
        "# let's check for missing values in the data\n",
        "data.'_______' ##  Complete the code to check missing entries in the train data"
      ],
      "execution_count": null,
      "outputs": []
    },
    {
      "cell_type": "code",
      "metadata": {
        "id": "33bar6robp06"
      },
      "source": [
        "# let's check for missing values in the data\n",
        "data_test.'_______' ##  Complete the code to check missing entries in the test data"
      ],
      "execution_count": null,
      "outputs": []
    },
    {
      "cell_type": "markdown",
      "metadata": {
        "id": "nUCorhch-qT4"
      },
      "source": [
        "### Statistical summary of the dataset"
      ]
    },
    {
      "cell_type": "code",
      "metadata": {
        "id": "J6lzvHKCbp06"
      },
      "source": [
        "# let's view the statistical summary of the numerical columns in the data\n",
        "data.'_______' ##  Complete the code to print the statitical summary of the train data"
      ],
      "execution_count": null,
      "outputs": []
    },
    {
      "cell_type": "markdown",
      "metadata": {
        "id": "DhPuzWO7hmV8"
      },
      "source": [
        "## Exploratory Data Analysis"
      ]
    },
    {
      "cell_type": "markdown",
      "metadata": {
        "id": "Lv7Bs8aUbp07"
      },
      "source": [
        "### Univariate analysis"
      ]
    },
    {
      "cell_type": "code",
      "metadata": {
        "id": "QIP4bI3Zbp07",
        "outputId": "f5372b09-92ef-4fbc-9398-e267e9116aa9"
      },
      "source": [
        "# function to plot a boxplot and a histogram along the same scale.\n",
        "\n",
        "\n",
        "def histogram_boxplot(data, feature, figsize=(12, 7), kde=False, bins=None):\n",
        "    \"\"\"\n",
        "    Boxplot and histogram combined\n",
        "\n",
        "    data: dataframe\n",
        "    feature: dataframe column\n",
        "    figsize: size of figure (default (12,7))\n",
        "    kde: whether to the show density curve (default False)\n",
        "    bins: number of bins for histogram (default None)\n",
        "    \"\"\"\n",
        "    f2, (ax_box2, ax_hist2) = plt.subplots(\n",
        "        nrows=2,  # Number of rows of the subplot grid= 2\n",
        "        sharex=True,  # x-axis will be shared among all subplots\n",
        "        gridspec_kw={\"height_ratios\": (0.25, 0.75)},\n",
        "        figsize=figsize,\n",
        "    )  # creating the 2 subplots\n",
        "    sns.boxplot(\n",
        "        data=data, x=feature, ax=ax_box2, showmeans=True, color=\"violet\"\n",
        "    )  # boxplot will be created and a triangle will indicate the mean value of the column\n",
        "    sns.histplot(\n",
        "        data=data, x=feature, kde=kde, ax=ax_hist2, bins=bins, palette=\"winter\"\n",
        "    ) if bins else sns.histplot(\n",
        "        data=data, x=feature, kde=kde, ax=ax_hist2\n",
        "    )  # For histogram\n",
        "    ax_hist2.axvline(\n",
        "        data[feature].mean(), color=\"green\", linestyle=\"--\"\n",
        "    )  # Add mean to the histogram\n",
        "    ax_hist2.axvline(\n",
        "        data[feature].median(), color=\"black\", linestyle=\"-\"\n",
        "    )  # Add median to the histogram"
      ],
      "execution_count": null,
      "outputs": [
        {
          "data": {
            "application/javascript": [
              "\n",
              "            setTimeout(function() {\n",
              "                var nbb_cell_id = 15;\n",
              "                var nbb_unformatted_code = \"# function to plot a boxplot and a histogram along the same scale.\\n\\n\\ndef histogram_boxplot(data, feature, figsize=(12, 7), kde=False, bins=None):\\n    \\\"\\\"\\\"\\n    Boxplot and histogram combined\\n\\n    data: dataframe\\n    feature: dataframe column\\n    figsize: size of figure (default (12,7))\\n    kde: whether to the show density curve (default False)\\n    bins: number of bins for histogram (default None)\\n    \\\"\\\"\\\"\\n    f2, (ax_box2, ax_hist2) = plt.subplots(\\n        nrows=2,  # Number of rows of the subplot grid= 2\\n        sharex=True,  # x-axis will be shared among all subplots\\n        gridspec_kw={\\\"height_ratios\\\": (0.25, 0.75)},\\n        figsize=figsize,\\n    )  # creating the 2 subplots\\n    sns.boxplot(\\n        data=data, x=feature, ax=ax_box2, showmeans=True, color=\\\"violet\\\"\\n    )  # boxplot will be created and a star will indicate the mean value of the column\\n    sns.histplot(\\n        data=data, x=feature, kde=kde, ax=ax_hist2, bins=bins, palette=\\\"winter\\\"\\n    ) if bins else sns.histplot(\\n        data=data, x=feature, kde=kde, ax=ax_hist2\\n    )  # For histogram\\n    ax_hist2.axvline(\\n        data[feature].mean(), color=\\\"green\\\", linestyle=\\\"--\\\"\\n    )  # Add mean to the histogram\\n    ax_hist2.axvline(\\n        data[feature].median(), color=\\\"black\\\", linestyle=\\\"-\\\"\\n    )  # Add median to the histogram\";\n",
              "                var nbb_formatted_code = \"# function to plot a boxplot and a histogram along the same scale.\\n\\n\\ndef histogram_boxplot(data, feature, figsize=(12, 7), kde=False, bins=None):\\n    \\\"\\\"\\\"\\n    Boxplot and histogram combined\\n\\n    data: dataframe\\n    feature: dataframe column\\n    figsize: size of figure (default (12,7))\\n    kde: whether to the show density curve (default False)\\n    bins: number of bins for histogram (default None)\\n    \\\"\\\"\\\"\\n    f2, (ax_box2, ax_hist2) = plt.subplots(\\n        nrows=2,  # Number of rows of the subplot grid= 2\\n        sharex=True,  # x-axis will be shared among all subplots\\n        gridspec_kw={\\\"height_ratios\\\": (0.25, 0.75)},\\n        figsize=figsize,\\n    )  # creating the 2 subplots\\n    sns.boxplot(\\n        data=data, x=feature, ax=ax_box2, showmeans=True, color=\\\"violet\\\"\\n    )  # boxplot will be created and a star will indicate the mean value of the column\\n    sns.histplot(\\n        data=data, x=feature, kde=kde, ax=ax_hist2, bins=bins, palette=\\\"winter\\\"\\n    ) if bins else sns.histplot(\\n        data=data, x=feature, kde=kde, ax=ax_hist2\\n    )  # For histogram\\n    ax_hist2.axvline(\\n        data[feature].mean(), color=\\\"green\\\", linestyle=\\\"--\\\"\\n    )  # Add mean to the histogram\\n    ax_hist2.axvline(\\n        data[feature].median(), color=\\\"black\\\", linestyle=\\\"-\\\"\\n    )  # Add median to the histogram\";\n",
              "                var nbb_cells = Jupyter.notebook.get_cells();\n",
              "                for (var i = 0; i < nbb_cells.length; ++i) {\n",
              "                    if (nbb_cells[i].input_prompt_number == nbb_cell_id) {\n",
              "                        if (nbb_cells[i].get_text() == nbb_unformatted_code) {\n",
              "                             nbb_cells[i].set_text(nbb_formatted_code);\n",
              "                        }\n",
              "                        break;\n",
              "                    }\n",
              "                }\n",
              "            }, 500);\n",
              "            "
            ],
            "text/plain": [
              "<IPython.core.display.Javascript object>"
            ]
          },
          "metadata": {},
          "output_type": "display_data"
        }
      ]
    },
    {
      "cell_type": "markdown",
      "metadata": {
        "id": "zBkL6zw0bp07"
      },
      "source": [
        "#### Plotting histograms and boxplots for all the variables"
      ]
    },
    {
      "cell_type": "code",
      "metadata": {
        "id": "p0ip-InCbp07",
        "scrolled": true
      },
      "source": [
        "for feature in df.columns:\n",
        "    histogram_boxplot(data, feature, figsize=(12, 7), kde=False, bins=None)"
      ],
      "execution_count": null,
      "outputs": []
    },
    {
      "cell_type": "markdown",
      "metadata": {
        "id": "sfvnghrACelD"
      },
      "source": [
        "### Let's look at the values in target variable"
      ]
    },
    {
      "cell_type": "code",
      "metadata": {
        "id": "jchAb6Ikbp08"
      },
      "source": [
        "data[\"Target\"].'_______' ##  Complete the code to check the class distribution in target variable for train data"
      ],
      "execution_count": null,
      "outputs": []
    },
    {
      "cell_type": "code",
      "metadata": {
        "id": "5rupsM4sbp08"
      },
      "source": [
        "data_test[\"Target\"].'_______' ##  Complete the code to check the class distribution in target variable for test data"
      ],
      "execution_count": null,
      "outputs": []
    },
    {
      "cell_type": "markdown",
      "metadata": {
        "id": "Bp8vC9MZbp09"
      },
      "source": [
        "## Data Pre-Processing"
      ]
    },
    {
      "cell_type": "code",
      "metadata": {
        "id": "IktO9G2Lbp09"
      },
      "source": [
        "# Dividing train data into X and y \n",
        "X = data.drop([\"Target\"], axis=1)\n",
        "y = data[\"Target\"]"
      ],
      "execution_count": null,
      "outputs": []
    },
    {
      "cell_type": "markdown",
      "source": [
        "**Since we already have a separate test set, we don't need to divide data into train, valiation and test**\n"
      ],
      "metadata": {
        "id": "eBXiW4s4kd63"
      }
    },
    {
      "cell_type": "code",
      "metadata": {
        "id": "j-8vqBMXbp09"
      },
      "source": [
        "# Splitting train dataset into training and validation set\n",
        "\n",
        "X_train, X_val, y_train, y_val = train_test_split('_______') ## Complete the code to split the train dataset into train test in the ratio 75:25"
      ],
      "execution_count": null,
      "outputs": []
    },
    {
      "cell_type": "code",
      "source": [
        "# Checking the number of rows and columns in the X_train data\n",
        "X_train.'_______' ##  Complete the code to view dimensions of the X_train data\n",
        "\n",
        "# Checking the number of rows and columns in the X_val data\n",
        "X_val.'_______' ##  Complete the code to view dimensions of the X_val data"
      ],
      "metadata": {
        "id": "eDmoKnBBFEpG"
      },
      "execution_count": null,
      "outputs": []
    },
    {
      "cell_type": "code",
      "source": [
        "# Dividing test data into X_test and y_test\n",
        "\n",
        "X_test = data_test.'_______' ##  Complete the code to drop target variable from test data\n",
        "y_test = data_test'_______' ##  Complete the code to store target variable in y_test"
      ],
      "metadata": {
        "id": "okpvXPeRkTL2"
      },
      "execution_count": null,
      "outputs": []
    },
    {
      "cell_type": "code",
      "source": [
        "# Checking the number of rows and columns in the X_test data\n",
        "X_test.'_______' ##  Complete the code to view dimensions of the X_test data"
      ],
      "metadata": {
        "id": "lk7gMVMSjR0N"
      },
      "execution_count": null,
      "outputs": []
    },
    {
      "cell_type": "markdown",
      "metadata": {
        "id": "0J99-7Kubp09"
      },
      "source": [
        "## Missing value imputation\n",
        "\n",
        "\n"
      ]
    },
    {
      "cell_type": "code",
      "metadata": {
        "id": "28L1vgAwbp09"
      },
      "source": [
        "# creating an instace of the imputer to be used\n",
        "imputer = SimpleImputer(strategy=\"median\")"
      ],
      "execution_count": null,
      "outputs": []
    },
    {
      "cell_type": "code",
      "metadata": {
        "id": "FNfbw4rJbp09"
      },
      "source": [
        "# Fit and transform the train data\n",
        "X_train = pd.DataFrame(imputer.fit_transform(X_train), columns=X_train.columns)\n",
        "\n",
        "# Transform the validation data\n",
        "X_val = pd.DataFrame(imputer._______(X_val), columns=X_train.columns) ## Complete the code to impute missing values in X_val without data leakage\n",
        "\n",
        "# Transform the test data\n",
        "X_test = pd.DataFrame(imputer._______(X_test), columns=X_train.columns) ## Complete the code to impute missing values in X_test without data leakage"
      ],
      "execution_count": null,
      "outputs": []
    },
    {
      "cell_type": "code",
      "metadata": {
        "id": "3jdLvwTAbp09"
      },
      "source": [
        "# Checking that no column has missing values in train or test sets\n",
        "print(X_train.isna().sum())\n",
        "print(\"-\" * 30)\n",
        "\n",
        "X_val.'_______' ## Complete the code to check the count of missing values in validation set\n",
        "X_test.'_______' ## Complete the code to check the count of missing values in test set"
      ],
      "execution_count": null,
      "outputs": []
    },
    {
      "cell_type": "markdown",
      "source": [
        "## Model Building"
      ],
      "metadata": {
        "id": "OzOa9FGA6WtG"
      }
    },
    {
      "cell_type": "markdown",
      "metadata": {
        "id": "YZqmoqz7bp0-"
      },
      "source": [
        "### Model evaluation criterion"
      ]
    },
    {
      "cell_type": "markdown",
      "source": [
        "The nature of predictions made by the classification model will translate as follows:\n",
        "\n",
        "- True positives (TP) are failures correctly predicted by the model.\n",
        "- False negatives (FN) are real failures in a generator where there is no detection by model. \n",
        "- False positives (FP) are failure detections in a generator where there is no failure.\n",
        "\n",
        "**Which metric to optimize?**\n",
        "\n",
        "* We need to choose the metric which will ensure that the maximum number of generator failures are predicted correctly by the model.\n",
        "* We would want Recall to be maximized as greater the Recall, the higher the chances of minimizing false negatives.\n",
        "* We want to minimize false negatives because if a model predicts that a machine will have no failure when there will be a failure, it will increase the maintenance cost."
      ],
      "metadata": {
        "id": "l2ORUgmUjDZC"
      }
    },
    {
      "cell_type": "markdown",
      "metadata": {
        "id": "VUs837UXbp0-"
      },
      "source": [
        "**Let's define a function to output different metrics (including recall) on the train and test set and a function to show confusion matrix so that we do not have to use the same code repetitively while evaluating models.**"
      ]
    },
    {
      "cell_type": "code",
      "metadata": {
        "id": "Nt33nwx_bp0-"
      },
      "source": [
        "# defining a function to compute different metrics to check performance of a classification model built using sklearn\n",
        "def model_performance_classification_sklearn(model, predictors, target):\n",
        "    \"\"\"\n",
        "    Function to compute different metrics to check classification model performance\n",
        "\n",
        "    model: classifier\n",
        "    predictors: independent variables\n",
        "    target: dependent variable\n",
        "    \"\"\"\n",
        "\n",
        "    # predicting using the independent variables\n",
        "    pred = model.predict(predictors)\n",
        "\n",
        "    acc = accuracy_score(target, pred)  # to compute Accuracy\n",
        "    recall = recall_score(target, pred)  # to compute Recall\n",
        "    precision = precision_score(target, pred)  # to compute Precision\n",
        "    f1 = f1_score(target, pred)  # to compute F1-score\n",
        "\n",
        "    # creating a dataframe of metrics\n",
        "    df_perf = pd.DataFrame(\n",
        "        {\n",
        "            \"Accuracy\": acc,\n",
        "            \"Recall\": recall,\n",
        "            \"Precision\": precision,\n",
        "            \"F1\": f1\n",
        "        },\n",
        "        index=[0],\n",
        "    )\n",
        "\n",
        "    return df_perf"
      ],
      "execution_count": null,
      "outputs": []
    },
    {
      "cell_type": "markdown",
      "metadata": {
        "id": "-hOzddAXbp0_"
      },
      "source": [
        "### Defining scorer to be used for cross-validation and hyperparameter tuning"
      ]
    },
    {
      "cell_type": "markdown",
      "source": [
        "- We want to reduce false negatives and will try to maximize \"Recall\".\n",
        "- To maximize Recall, we can use Recall as a **scorer** in cross-validation and hyperparameter tuning."
      ],
      "metadata": {
        "id": "dzLUm-eSi_cJ"
      }
    },
    {
      "cell_type": "code",
      "metadata": {
        "id": "ayLcyOLsbp0_"
      },
      "source": [
        "# Type of scoring used to compare parameter combinations\n",
        "scorer = metrics.make_scorer(metrics.recall_score)"
      ],
      "execution_count": null,
      "outputs": []
    },
    {
      "cell_type": "markdown",
      "source": [
        "**We are now done with pre-processing and evaluation criterion, so let's start building the model.**"
      ],
      "metadata": {
        "id": "iNwROa3X3OV7"
      }
    },
    {
      "cell_type": "markdown",
      "source": [
        "### Model Building on original data"
      ],
      "metadata": {
        "id": "8Je_G2zN3VCF"
      }
    },
    {
      "cell_type": "code",
      "metadata": {
        "id": "-OTOG3o1bp0_",
        "scrolled": true
      },
      "source": [
        "models = []  # Empty list to store all the models\n",
        "\n",
        "# Appending models into the list\n",
        "models.append((\"Logistic regression\", LogisticRegression(random_state=1)))\n",
        "models.append((\"Bagging\", BaggingClassifier(random_state=1)))\n",
        "'_______' ## Complete the code to append remaining 4 models in the list models\n",
        "\n",
        "results1 = []  # Empty list to store all model's CV scores\n",
        "names = []  # Empty list to store name of the models\n",
        "\n",
        "\n",
        "# loop through all models to get the mean cross validated score\n",
        "print(\"\\n\" \"Cross-Validation performance on training dataset:\" \"\\n\")\n",
        "\n",
        "for name, model in models:\n",
        "    kfold = StratifiedKFold(\n",
        "        n_splits=5, shuffle=True, random_state=1\n",
        "    )  # Setting number of splits equal to 5\n",
        "    cv_result = cross_val_score(\n",
        "        estimator=model, X=X_train, y=y_train, scoring=scorer, cv=kfold\n",
        "    )\n",
        "    results1.append(cv_result)\n",
        "    names.append(name)\n",
        "    print(\"{}: {}\".format(name, cv_result.mean()))\n",
        "\n",
        "print(\"\\n\" \"Validation Performance:\" \"\\n\")\n",
        "\n",
        "for name, model in models:\n",
        "    model.fit(X_train, y_train)\n",
        "    scores = recall_score(y_val, model.predict(X_val))\n",
        "    print(\"{}: {}\".format(name, scores))"
      ],
      "execution_count": null,
      "outputs": []
    },
    {
      "cell_type": "code",
      "metadata": {
        "id": "Cm61fR_mbp0_",
        "scrolled": false
      },
      "source": [
        "# Plotting boxplots for CV scores of all models defined above\n",
        "fig = plt.figure(figsize=(10, 7))\n",
        "\n",
        "fig.suptitle(\"Algorithm Comparison\")\n",
        "ax = fig.add_subplot(111)\n",
        "\n",
        "plt.boxplot(results1)\n",
        "ax.set_xticklabels(names)\n",
        "\n",
        "plt.show()"
      ],
      "execution_count": null,
      "outputs": []
    },
    {
      "cell_type": "markdown",
      "metadata": {
        "id": "C91_6Swtbp1A"
      },
      "source": [
        "### Model Building with oversampled data"
      ]
    },
    {
      "cell_type": "code",
      "metadata": {
        "id": "o2dEk01hbp1A"
      },
      "source": [
        "print(\"Before OverSampling, counts of label '1': {}\".format(sum(y_train == 1)))\n",
        "print(\"Before OverSampling, counts of label '0': {} \\n\".format(sum(y_train == 0)))\n",
        "\n",
        "# Synthetic Minority Over Sampling Technique\n",
        "sm = SMOTE(sampling_strategy=1, k_neighbors=5, random_state=1)\n",
        "X_train_over, y_train_over = sm.fit_resample(X_train, y_train)\n",
        "\n",
        "\n",
        "print(\"After OverSampling, counts of label '1': {}\".format(sum(y_train_over == 1)))\n",
        "print(\"After OverSampling, counts of label '0': {} \\n\".format(sum(y_train_over == 0)))\n",
        "\n",
        "\n",
        "print(\"After OverSampling, the shape of train_X: {}\".format(X_train_over.shape))\n",
        "print(\"After OverSampling, the shape of train_y: {} \\n\".format(y_train_over.shape))"
      ],
      "execution_count": null,
      "outputs": []
    },
    {
      "cell_type": "code",
      "source": [
        "models = []  # Empty list to store all the models\n",
        "\n",
        "# Appending models into the list\n",
        "models.append((\"Logistic regression\", LogisticRegression(random_state=1)))\n",
        "models.append((\"Bagging\", BaggingClassifier(random_state=1)))\n",
        "'_______' ## Complete the code to append remaining 4 models in the list models\n",
        "\n",
        "results1 = []  # Empty list to store all model's CV scores\n",
        "names = []  # Empty list to store name of the models\n",
        "\n",
        "\n",
        "# loop through all models to get the mean cross validated score\n",
        "print(\"\\n\" \"Cross-Validation performance on training dataset:\" \"\\n\")\n",
        "\n",
        "for name, model in models:\n",
        "    kfold = StratifiedKFold(\n",
        "        n_splits=5, shuffle=True, random_state=1\n",
        "    )  # Setting number of splits equal to 5\n",
        "    cv_result = cross_val_score(\n",
        "        estimator=model, X=_______, y=_______, scoring=scorer, cv=kfold\n",
        "    )  ## Complete the code to build models on oversampled data\n",
        "    results1.append(cv_result)\n",
        "    names.append(name)\n",
        "    print(\"{}: {}\".format(name, cv_result.mean()))\n",
        "\n",
        "print(\"\\n\" \"Validation Performance:\" \"\\n\")\n",
        "\n",
        "for name, model in models:\n",
        "    model.fit(______,______)## Complete the code to build models on oversampled data \n",
        "    scores = recall_score(y_val, model.predict(X_val))\n",
        "    print(\"{}: {}\".format(name, scores))"
      ],
      "metadata": {
        "id": "VMdOjn_uICGt"
      },
      "execution_count": null,
      "outputs": []
    },
    {
      "cell_type": "code",
      "metadata": {
        "id": "kwUcBORjbp1A",
        "scrolled": false
      },
      "source": [
        "# Plotting boxplots for CV scores of all models defined above\n",
        "'_______' ## Write the code to create boxplot to check model performance on oversampled data"
      ],
      "execution_count": null,
      "outputs": []
    },
    {
      "cell_type": "markdown",
      "metadata": {
        "id": "fYLfDmHvbp1B"
      },
      "source": [
        "### Model Building with undersampled data"
      ]
    },
    {
      "cell_type": "code",
      "metadata": {
        "id": "PHM-5g8Qbp1B"
      },
      "source": [
        "rus = RandomUnderSampler(random_state=1, sampling_strategy=1)\n",
        "X_train_un, y_train_un = rus.fit_resample(X_train, y_train)\n",
        "\n",
        "\n",
        "print(\"Before UnderSampling, counts of label '1': {}\".format(sum(y_train == 1)))\n",
        "print(\"Before UnderSampling, counts of label '0': {} \\n\".format(sum(y_train == 0)))\n",
        "\n",
        "\n",
        "print(\"After UnderSampling, counts of label '1': {}\".format(sum(y_train_un == 1)))\n",
        "print(\"After UnderSampling, counts of label '0': {} \\n\".format(sum(y_train_un == 0)))\n",
        "\n",
        "\n",
        "print(\"After UnderSampling, the shape of train_X: {}\".format(X_train_un.shape))\n",
        "print(\"After UnderSampling, the shape of train_y: {} \\n\".format(y_train_un.shape))"
      ],
      "execution_count": null,
      "outputs": []
    },
    {
      "cell_type": "code",
      "source": [
        "models = []  # Empty list to store all the models\n",
        "\n",
        "# Appending models into the list\n",
        "models.append((\"Logistic regression\", LogisticRegression(random_state=1)))\n",
        "models.append((\"Bagging\", BaggingClassifier(random_state=1)))\n",
        "'_______' ## Complete the code to append remaining 4 models in the list models\n",
        "\n",
        "results1 = []  # Empty list to store all model's CV scores\n",
        "names = []  # Empty list to store name of the models\n",
        "\n",
        "\n",
        "# loop through all models to get the mean cross validated score\n",
        "print(\"\\n\" \"Cross-Validation performance on training dataset:\" \"\\n\")\n",
        "\n",
        "for name, model in models:\n",
        "    kfold = StratifiedKFold(\n",
        "        n_splits=5, shuffle=True, random_state=1\n",
        "    )  # Setting number of splits equal to 5\n",
        "    cv_result = cross_val_score(\n",
        "        estimator=model, X=_______, y=_______, scoring=scorer, cv=kfold\n",
        "    )  ## Complete the code to build models on undersampled data\n",
        "    results1.append(cv_result)\n",
        "    names.append(name)\n",
        "    print(\"{}: {}\".format(name, cv_result.mean()))\n",
        "\n",
        "print(\"\\n\" \"Validation Performance:\" \"\\n\")\n",
        "\n",
        "for name, model in models:\n",
        "    model.fit(______,______)## Complete the code to build models on undersampled data \n",
        "    scores = recall_score(y_val, model.predict(X_val))\n",
        "    print(\"{}: {}\".format(name, scores))"
      ],
      "metadata": {
        "id": "jTcxf6VwIp4o"
      },
      "execution_count": null,
      "outputs": []
    },
    {
      "cell_type": "code",
      "metadata": {
        "id": "8HcDqaD2bp1B",
        "scrolled": false
      },
      "source": [
        "# Plotting boxplots for CV scores of all models defined above\n",
        "'_______' ## Write the code to create boxplot to check model performance on undersampled data"
      ],
      "execution_count": null,
      "outputs": []
    },
    {
      "cell_type": "markdown",
      "source": [
        "**After looking at performance of all the models, let's decide which models can further improve with hyperparameter tuning.**\n",
        "\n",
        "**Note**: You can choose to tune some other model if XGBoost gives error."
      ],
      "metadata": {
        "id": "ERm8IqLo34q8"
      }
    },
    {
      "cell_type": "markdown",
      "metadata": {
        "id": "zLZlKa99bp1C"
      },
      "source": [
        "## Hyperparameter Tuning"
      ]
    },
    {
      "cell_type": "markdown",
      "source": [
        "### **Note**\n",
        "1. Sample parameter grid has been provided to do necessary hyperparameter tuning. One can extend/reduce the parameter grid based on execution time and system configuration to try to improve the model performance further wherever needed.      \n",
        "2. The models chosen in this notebook are based on test runs. One can update the best models as obtained upon code execution and tune them for best performance.\n",
        "\n"
      ],
      "metadata": {
        "id": "tFEScXRsl9NM"
      }
    },
    {
      "cell_type": "markdown",
      "metadata": {
        "id": "2FtmPS7Ubp1D"
      },
      "source": [
        "### Tuning AdaBoost using oversampled data"
      ]
    },
    {
      "cell_type": "code",
      "metadata": {
        "id": "IPSlOlvkbp1D"
      },
      "source": [
        "%%time \n",
        "\n",
        "# defining model\n",
        "Model = AdaBoostClassifier(random_state=1)\n",
        "\n",
        "# Parameter grid to pass in RandomSearchCV\n",
        "param_grid = {\n",
        "    \"n_estimators\": [100, 150, 200],\n",
        "    \"learning_rate\": [0.2, 0.05],\n",
        "    \"base_estimator\": [DecisionTreeClassifier(max_depth=1, random_state=1), DecisionTreeClassifier(max_depth=2, random_state=1), DecisionTreeClassifier(max_depth=3, random_state=1),\n",
        "    ]\n",
        "}\n",
        "\n",
        "\n",
        "#Calling RandomizedSearchCV\n",
        "randomized_cv = RandomizedSearchCV(estimator=Model, param_distributions=param_grid, n_iter=50, n_jobs = -1, scoring=scorer, cv=5, random_state=1)\n",
        "\n",
        "#Fitting parameters in RandomizedSearchCV\n",
        "randomized_cv.fit(X_train_over,y_train_over) ## Complete the code to fit the model on over sampled data\n",
        "\n",
        "print(\"Best parameters are {} with CV score={}:\" .format(randomized_cv.best_params_,randomized_cv.best_score_))"
      ],
      "execution_count": null,
      "outputs": []
    },
    {
      "cell_type": "code",
      "metadata": {
        "id": "UTQNwsr5bp1D"
      },
      "source": [
        "# Creating new pipeline with best parameters\n",
        "tuned_ada = AdaBoostClassifier(\n",
        "    n_estimators= _______, learning_rate= _______, base_estimator= DecisionTreeClassifier(max_depth=_______, random_state=1)\n",
        ") ## Complete the code with the best parameters obtained from tuning\n",
        "\n",
        "tuned_ada.'_______' ## Complete the code to fit the model on oversampled data"
      ],
      "execution_count": null,
      "outputs": []
    },
    {
      "cell_type": "code",
      "metadata": {
        "id": "MKzdHSSbbp1D",
        "scrolled": true
      },
      "source": [
        "ada_train_perf = model_performance_classification_sklearn(tuned_ada, X_train_over, y_train_over)\n",
        "ada_train_perf"
      ],
      "execution_count": null,
      "outputs": []
    },
    {
      "cell_type": "code",
      "metadata": {
        "id": "10_dV5m4bp1D"
      },
      "source": [
        "ada_val_perf = '_______' ## Complete the code to check the performance on validation set\n",
        "ada_val_perf"
      ],
      "execution_count": null,
      "outputs": []
    },
    {
      "cell_type": "markdown",
      "metadata": {
        "id": "Dqj6dc38bp1E"
      },
      "source": [
        "### Tuning Random forest using undersampled data"
      ]
    },
    {
      "cell_type": "code",
      "metadata": {
        "id": "9tLNoDYhbp1E"
      },
      "source": [
        "%%time \n",
        "\n",
        "# defining model\n",
        "Model = RandomForestClassifier(random_state=1)\n",
        "\n",
        "# Parameter grid to pass in RandomSearchCV\n",
        "param_grid = {\n",
        "    \"n_estimators\": [200,250,300],\n",
        "    \"min_samples_leaf\": np.arange(1, 4),\n",
        "    \"max_features\": [np.arange(0.3, 0.6, 0.1),'sqrt'],\n",
        "    \"max_samples\": np.arange(0.4, 0.7, 0.1)}\n",
        "\n",
        "\n",
        "#Calling RandomizedSearchCV\n",
        "randomized_cv = RandomizedSearchCV(estimator=Model, param_distributions=param_grid, n_iter=50, n_jobs = -1, scoring=scorer, cv=5, random_state=1)\n",
        "\n",
        "#Fitting parameters in RandomizedSearchCV\n",
        "randomized_cv.'_______' ## Complete the code to fit the model on under sampled data\n",
        "\n",
        "print(\"Best parameters are {} with CV score={}:\" .format(randomized_cv.best_params_,randomized_cv.best_score_))"
      ],
      "execution_count": null,
      "outputs": []
    },
    {
      "cell_type": "code",
      "metadata": {
        "id": "5kmoh9KMbp1E"
      },
      "source": [
        "# Creating new pipeline with best parameters\n",
        "tuned_rf2 = RandomForestClassifier(\n",
        "    max_features=_______,\n",
        "    random_state=1,\n",
        "    max_samples=_______,\n",
        "    n_estimators=_______,\n",
        "    min_samples_leaf=_______,\n",
        ")## Complete the code with the best parameters obtained from tuning\n",
        "\n",
        "tuned_rf2.'_______' ## Complete the code to fit the model on under sampled data"
      ],
      "execution_count": null,
      "outputs": []
    },
    {
      "cell_type": "code",
      "metadata": {
        "id": "bAAD5mzybp1E"
      },
      "source": [
        "rf2_train_perf = '_______' ## Complete the code to check the performance on undersampled train set\n",
        "rf2_train_perf"
      ],
      "execution_count": null,
      "outputs": []
    },
    {
      "cell_type": "code",
      "metadata": {
        "id": "WTtYpzO-bp1E",
        "scrolled": true
      },
      "source": [
        "rf2_val_perf = '_______' ## Complete the code to check the performance on validation set\n",
        "rf2_val_perf"
      ],
      "execution_count": null,
      "outputs": []
    },
    {
      "cell_type": "markdown",
      "source": [
        "### Tuning Gradient Boosting using oversampled data"
      ],
      "metadata": {
        "id": "XoLT8ewJ5V2d"
      }
    },
    {
      "cell_type": "code",
      "source": [
        "%%time \n",
        "\n",
        "# defining model\n",
        "Model = GradientBoostingClassifier(random_state=1)\n",
        "\n",
        "#Parameter grid to pass in RandomSearchCV\n",
        "param_grid={\"n_estimators\": np.arange(100,150,25), \"learning_rate\": [0.2, 0.05, 1], \"subsample\":[0.5,0.7], \"max_features\":[0.5,0.7]}\n",
        "\n",
        "#Calling RandomizedSearchCV\n",
        "randomized_cv = RandomizedSearchCV(estimator=Model, param_distributions=param_grid, scoring=scorer, n_iter=50, n_jobs = -1, cv=5, random_state=1)\n",
        "\n",
        "#Fitting parameters in RandomizedSearchCV\n",
        "randomized_cv.fit(X_train_over, y_train_over)\n",
        "\n",
        "print(\"Best parameters are {} with CV score={}:\" .format(randomized_cv.best_params_,randomized_cv.best_score_))"
      ],
      "metadata": {
        "id": "zkDY8_X25Kxe"
      },
      "execution_count": null,
      "outputs": []
    },
    {
      "cell_type": "code",
      "source": [
        "# Creating new pipeline with best parameters\n",
        "tuned_gbm = GradientBoostingClassifier(\n",
        "    max_features=_______,\n",
        "    random_state=1,\n",
        "    learning_rate=_______,\n",
        "    n_estimators=_______,\n",
        "    subsample=_______,\n",
        ")## Complete the code with the best parameters obtained from tuning\n",
        "\n",
        "tuned_gbm.fit(X_train_over, y_train_over)"
      ],
      "metadata": {
        "id": "j_61Omhq5KkB"
      },
      "execution_count": null,
      "outputs": []
    },
    {
      "cell_type": "code",
      "source": [
        "gbm_train_perf = '_______' ## Complete the code to check the performance on oversampled train set\n",
        "gbm_train_perf"
      ],
      "metadata": {
        "id": "k8Oxv7PIJTmF"
      },
      "execution_count": null,
      "outputs": []
    },
    {
      "cell_type": "code",
      "source": [
        "gbm_val_perf = '_______' ## Complete the code to check the performance on validation set\n",
        "gbm_val_perf"
      ],
      "metadata": {
        "id": "wpcbbrBLJjS5"
      },
      "execution_count": null,
      "outputs": []
    },
    {
      "cell_type": "markdown",
      "metadata": {
        "id": "VbrQHwrKbp1C"
      },
      "source": [
        "### Tuning XGBoost using oversampled data"
      ]
    },
    {
      "cell_type": "markdown",
      "source": [
        "**Note**: You can choose to skip this section if XGBoost gives error."
      ],
      "metadata": {
        "id": "Sp_kVMHxiahW"
      }
    },
    {
      "cell_type": "code",
      "metadata": {
        "id": "ec8e6iVzbp1C"
      },
      "source": [
        "%%time \n",
        "\n",
        "# defining model\n",
        "Model = XGBClassifier(random_state=1,eval_metric='logloss')\n",
        "\n",
        "#Parameter grid to pass in RandomSearchCV\n",
        "param_grid={'n_estimators':[150,200,250],'scale_pos_weight':[5,10], 'learning_rate':[0.1,0.2], 'gamma':[0,3,5], 'subsample':[0.8,0.9]}\n",
        "\n",
        "#Calling RandomizedSearchCV\n",
        "randomized_cv = RandomizedSearchCV(estimator=Model, param_distributions=param_grid, n_iter=50, n_jobs = -1, scoring=scorer, cv=5, random_state=1)\n",
        "\n",
        "#Fitting parameters in RandomizedSearchCV\n",
        "randomized_cv.'_______' ## Complete the code to fit the model on over sampled data\n",
        "\n",
        "print(\"Best parameters are {} with CV score={}:\" .format(randomized_cv.best_params_,randomized_cv.best_score_))"
      ],
      "execution_count": null,
      "outputs": []
    },
    {
      "cell_type": "code",
      "metadata": {
        "id": "NSio3khJbp1C",
        "scrolled": true
      },
      "source": [
        "xgb2 = XGBClassifier(\n",
        "    random_state=1,\n",
        "    eval_metric=\"logloss\",\n",
        "    subsample=_______,\n",
        "    scale_pos_weight=_______,\n",
        "    n_estimators=_______,\n",
        "    learning_rate=_______,\n",
        "    gamma=_______,\n",
        ")## Complete the code with the best parameters obtained from tuning\n",
        "\n",
        "xgb2.'_______' ## Complete the code to fit the model on over sampled data"
      ],
      "execution_count": null,
      "outputs": []
    },
    {
      "cell_type": "code",
      "metadata": {
        "id": "hDzHR8Pwbp1D"
      },
      "source": [
        "xgb2_train_perf =  '_______' ## Complete the code to check the performance on oversampled train set\n",
        "xgb2_train_perf"
      ],
      "execution_count": null,
      "outputs": []
    },
    {
      "cell_type": "code",
      "metadata": {
        "id": "jiDRsOrMbp1D",
        "scrolled": false
      },
      "source": [
        "xgb2_val_perf =  '_______' ## Complete the code to check the performance on validation set\n",
        "xgb2_val_perf"
      ],
      "execution_count": null,
      "outputs": []
    },
    {
      "cell_type": "markdown",
      "source": [
        "**We have now tuned all the models, let's compare the performance of all tuned models and see which one is the best.**"
      ],
      "metadata": {
        "id": "uJsiURQL4eBn"
      }
    },
    {
      "cell_type": "markdown",
      "metadata": {
        "id": "D9JNnpxa4jau"
      },
      "source": [
        "## Model performance comparison and choosing the final model"
      ]
    },
    {
      "cell_type": "code",
      "metadata": {
        "id": "TF1WfZZHbp1E"
      },
      "source": [
        "# training performance comparison\n",
        "\n",
        "models_train_comp_df = pd.concat(\n",
        "    [\n",
        "        gbm_train_perf.T,\n",
        "        ada_train_perf.T,\n",
        "        rf2_train_perf.T,\n",
        "        xgb2_train_perf.T,\n",
        "    ],\n",
        "    axis=1,\n",
        ")\n",
        "models_train_comp_df.columns = [\n",
        "    \"Gradient Boosting tuned with oversampled data\",\n",
        "    \"AdaBoost classifier tuned with oversampled data\",\n",
        "    \"Random forest tuned with undersampled data\",\n",
        "    \"XGBoost tuned with oversampled data\",\n",
        "]\n",
        "print(\"Training performance comparison:\")\n",
        "models_train_comp_df"
      ],
      "execution_count": null,
      "outputs": []
    },
    {
      "cell_type": "code",
      "metadata": {
        "id": "0FgTXpsXbp1F"
      },
      "source": [
        "# validation performance comparison\n",
        "\n",
        "'_______' ## Write the code to compare the performance on validation set"
      ],
      "execution_count": null,
      "outputs": []
    },
    {
      "cell_type": "markdown",
      "metadata": {
        "id": "PYS5m_mcbp1F"
      },
      "source": [
        "**Now we have our final model, so let's find out how our final model is performing on unseen test data.**"
      ]
    },
    {
      "cell_type": "code",
      "metadata": {
        "id": "rqgvz7e7bp1F"
      },
      "source": [
        "# Let's check the performance on test set\n",
        "'_______' ## Write the code to check the performance of best model on test data"
      ],
      "execution_count": null,
      "outputs": []
    },
    {
      "cell_type": "markdown",
      "source": [
        "### Feature Importances"
      ],
      "metadata": {
        "id": "J49s-TEB41JQ"
      }
    },
    {
      "cell_type": "code",
      "metadata": {
        "id": "7Zk2dFRzbp1F"
      },
      "source": [
        "feature_names = X_train.columns\n",
        "importances =  '_______' ## Complete the code to check the feature importance of the best model\n",
        "indices = np.argsort(importances)\n",
        "\n",
        "plt.figure(figsize=(12, 12))\n",
        "plt.title(\"Feature Importances\")\n",
        "plt.barh(range(len(indices)), importances[indices], color=\"violet\", align=\"center\")\n",
        "plt.yticks(range(len(indices)), [feature_names[i] for i in indices])\n",
        "plt.xlabel(\"Relative Importance\")\n",
        "plt.show()"
      ],
      "execution_count": null,
      "outputs": []
    },
    {
      "cell_type": "markdown",
      "metadata": {
        "id": "gohwGn0tbp1L"
      },
      "source": [
        "## Let's use Pipelines to build the final model"
      ]
    },
    {
      "cell_type": "markdown",
      "source": [
        "- Since we have only one datatype in the data, we don't need to use column transformer here"
      ],
      "metadata": {
        "id": "euQoHofA5JBx"
      }
    },
    {
      "cell_type": "code",
      "metadata": {
        "id": "xTB5oErrbp1L"
      },
      "source": [
        "Pipeline_model = Pipeline('_______' ) ## Complete the code to create pipeline for the best model"
      ],
      "execution_count": null,
      "outputs": []
    },
    {
      "cell_type": "code",
      "metadata": {
        "id": "KVhk_Ga4bp1L"
      },
      "source": [
        "# Separating target variable and other variables\n",
        "X1 = data.drop(columns=\"Target\")\n",
        "Y1 = data[\"Target\"]\n",
        "\n",
        "# Since we already have a separate test set, we don't need to divide data into train and test\n",
        "\n",
        "X_test1 = df_test.('_______') ##  Complete the code to drop target variable from test data\n",
        "y_test1 = df_test['_______'] ##  Complete the code to store target variable in y_test1\n"
      ],
      "execution_count": null,
      "outputs": []
    },
    {
      "cell_type": "code",
      "metadata": {
        "id": "esCUwy3ibp1L"
      },
      "source": [
        "# We can't oversample/undersample data without doing missing value treatment, so let's first treat the missing values in the train set\n",
        "imputer = SimpleImputer(strategy=\"median\")\n",
        "X1 = imputer.fit_transform(X1)\n",
        "\n",
        "# We don't need to impute missing values in test set as it will be done inside pipeline"
      ],
      "execution_count": null,
      "outputs": []
    },
    {
      "cell_type": "markdown",
      "source": [
        "**Note:** Please perform either oversampling or undersampling based on the final model chosen."
      ],
      "metadata": {
        "id": "xKYy2r85zBB7"
      }
    },
    {
      "cell_type": "markdown",
      "source": [
        "If the best model is built on the oversampled data, uncomment and run the below code to perform oversampling"
      ],
      "metadata": {
        "id": "ILVQdGr2KNO0"
      }
    },
    {
      "cell_type": "code",
      "metadata": {
        "id": "wRhGqGEqbp1M"
      },
      "source": [
        "# #code for oversampling on the data\n",
        "# # Synthetic Minority Over Sampling Technique\n",
        "# sm = SMOTE(sampling_strategy=1, k_neighbors=5, random_state=1)\n",
        "# X_over1, y_over1 = sm.fit_resample(X1, Y1)"
      ],
      "execution_count": null,
      "outputs": []
    },
    {
      "cell_type": "markdown",
      "source": [
        "If the best model is built on the undersampled data, uncomment and run the below code to perform undersampling\n"
      ],
      "metadata": {
        "id": "xFESt-LQKo_5"
      }
    },
    {
      "cell_type": "code",
      "source": [
        "# # code for undersampling on the data\n",
        "# # Under Sampling Technique\n",
        "# rus = RandomUnderSampler(random_state=1, sampling_strategy=1)\n",
        "# X_train_un, y_train_un = rus.fit_resample(X_train, y_train)"
      ],
      "metadata": {
        "id": "j1S2b6yUKmAz"
      },
      "execution_count": null,
      "outputs": []
    },
    {
      "cell_type": "code",
      "metadata": {
        "id": "AWI12Lh5bp1M"
      },
      "source": [
        "Pipeline_model.'_______' ##  Complete the code to fit the Model obtained from above step"
      ],
      "execution_count": null,
      "outputs": []
    },
    {
      "cell_type": "code",
      "source": [
        "Pipeline_model_test = '_______'  ## Complete the code to check the performance on test set\n",
        "Pipeline_model_test"
      ],
      "metadata": {
        "id": "AlKakNj7592p"
      },
      "execution_count": null,
      "outputs": []
    },
    {
      "cell_type": "markdown",
      "metadata": {
        "id": "gxFmwam_bp1M"
      },
      "source": [
        "# Business Insights and Conclusions\n"
      ]
    },
    {
      "cell_type": "markdown",
      "source": [
        "- Best model and its performance\n",
        "- Important features\n",
        "- Additional points"
      ],
      "metadata": {
        "id": "bc5SEIuJnyQm"
      }
    },
    {
      "cell_type": "markdown",
      "source": [
        "***"
      ],
      "metadata": {
        "id": "MyLBn7uE6LhP"
      }
    }
  ]
}